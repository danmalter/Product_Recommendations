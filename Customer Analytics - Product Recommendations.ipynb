{
 "cells": [
  {
   "cell_type": "markdown",
   "metadata": {},
   "source": [
    "# Recommending Items to Users\n"
   ]
  },
  {
   "cell_type": "markdown",
   "metadata": {},
   "source": [
    "Collaborative Filtering is a popular technique that is used for coming up with User-Item recommendations. In this example, we will use the list of which users bought which items and build an affinity score between items. When a customers buys an item, we use this affinity score to recommend other items to the customer"
   ]
  },
  {
   "cell_type": "code",
   "execution_count": 44,
   "metadata": {
    "collapsed": true
   },
   "outputs": [],
   "source": [
    "import pandas as pd\n",
    "import numpy as np\n",
    "from __future__ import division"
   ]
  },
  {
   "cell_type": "markdown",
   "metadata": {},
   "source": [
    "\n",
    "## Loading the Dataset\n",
    "\n",
    "The source data set contains in each row a User ID and an Item ID. This is the list of users and the items they bought, one line at a time"
   ]
  },
  {
   "cell_type": "code",
   "execution_count": 4,
   "metadata": {
    "collapsed": false
   },
   "outputs": [
    {
     "data": {
      "text/html": [
       "<div>\n",
       "<table border=\"1\" class=\"dataframe\">\n",
       "  <thead>\n",
       "    <tr style=\"text-align: right;\">\n",
       "      <th></th>\n",
       "      <th>userId</th>\n",
       "      <th>ItemId</th>\n",
       "    </tr>\n",
       "  </thead>\n",
       "  <tbody>\n",
       "    <tr>\n",
       "      <th>0</th>\n",
       "      <td>1001</td>\n",
       "      <td>5001</td>\n",
       "    </tr>\n",
       "    <tr>\n",
       "      <th>1</th>\n",
       "      <td>1001</td>\n",
       "      <td>5002</td>\n",
       "    </tr>\n",
       "    <tr>\n",
       "      <th>2</th>\n",
       "      <td>1001</td>\n",
       "      <td>5005</td>\n",
       "    </tr>\n",
       "    <tr>\n",
       "      <th>3</th>\n",
       "      <td>1002</td>\n",
       "      <td>5003</td>\n",
       "    </tr>\n",
       "    <tr>\n",
       "      <th>4</th>\n",
       "      <td>1002</td>\n",
       "      <td>5004</td>\n",
       "    </tr>\n",
       "  </tbody>\n",
       "</table>\n",
       "</div>"
      ],
      "text/plain": [
       "   userId  ItemId\n",
       "0    1001    5001\n",
       "1    1001    5002\n",
       "2    1001    5005\n",
       "3    1002    5003\n",
       "4    1002    5004"
      ]
     },
     "execution_count": 4,
     "metadata": {},
     "output_type": "execute_result"
    }
   ],
   "source": [
    "user_ItemData = pd.read_csv('ratings.csv')\n",
    "user_ItemData.head(5)"
   ]
  },
  {
   "cell_type": "markdown",
   "metadata": {},
   "source": [
    "## Building the Affinity Score\n",
    "\n",
    "For building the affinity score, we can use out-of-the-box open source and commercial collaborative filtering libraries. In this example though, we are going to write a simple algorithm to generate user / item affinities."
   ]
  },
  {
   "cell_type": "code",
   "execution_count": 8,
   "metadata": {
    "collapsed": false
   },
   "outputs": [
    {
     "data": {
      "text/plain": [
       "array([5001, 5002, 5005, 5003, 5004], dtype=int64)"
      ]
     },
     "execution_count": 8,
     "metadata": {},
     "output_type": "execute_result"
    }
   ],
   "source": [
    "user_ItemData.ItemId.unique()"
   ]
  },
  {
   "cell_type": "markdown",
   "metadata": {},
   "source": [
    "There are 5 unique items. Let's build an affinity score for each pair of these 5 items.\n"
   ]
  },
  {
   "cell_type": "code",
   "execution_count": 12,
   "metadata": {
    "collapsed": false
   },
   "outputs": [
    {
     "data": {
      "text/plain": [
       "[5001, 5002, 5005, 5003, 5004]"
      ]
     },
     "execution_count": 12,
     "metadata": {},
     "output_type": "execute_result"
    }
   ],
   "source": [
    "# Get the list of unique items\n",
    "item_List = list((user_ItemData.ItemId.unique()))\n",
    "item_List"
   ]
  },
  {
   "cell_type": "code",
   "execution_count": 28,
   "metadata": {
    "collapsed": false
   },
   "outputs": [
    {
     "data": {
      "text/plain": [
       "5"
      ]
     },
     "execution_count": 28,
     "metadata": {},
     "output_type": "execute_result"
    }
   ],
   "source": [
    "# get count of user\n",
    "userCount = len(list(user_ItemData.userId.unique()))\n",
    "userCount"
   ]
  },
  {
   "cell_type": "code",
   "execution_count": 45,
   "metadata": {
    "collapsed": false
   },
   "outputs": [
    {
     "name": "stdout",
     "output_type": "stream",
     "text": [
      "item1 [1001, 1003, 1004]\n",
      "item2 [1001, 1003, 1005]\n",
      "Common Users are --> 2\n",
      "Score is  0.4\n",
      "item2 [1001, 1002, 1004]\n",
      "Common Users are --> 2\n",
      "Score is  0.4\n",
      "item2 [1002]\n",
      "Common Users are --> 0\n",
      "Score is  0.0\n",
      "item2 [1002, 1004, 1005]\n",
      "Common Users are --> 1\n",
      "Score is  0.2\n",
      "item1 [1001, 1003, 1005]\n",
      "item2 [1001, 1002, 1004]\n",
      "Common Users are --> 1\n",
      "Score is  0.2\n",
      "item2 [1002]\n",
      "Common Users are --> 0\n",
      "Score is  0.0\n",
      "item2 [1002, 1004, 1005]\n",
      "Common Users are --> 1\n",
      "Score is  0.2\n",
      "item1 [1001, 1002, 1004]\n",
      "item2 [1002]\n",
      "Common Users are --> 1\n",
      "Score is  0.2\n",
      "item2 [1002, 1004, 1005]\n",
      "Common Users are --> 2\n",
      "Score is  0.4\n",
      "item1 [1002]\n",
      "item2 [1002, 1004, 1005]\n",
      "Common Users are --> 1\n",
      "Score is  0.2\n",
      "item1 [1002, 1004, 1005]\n"
     ]
    },
    {
     "data": {
      "text/html": [
       "<div>\n",
       "<table border=\"1\" class=\"dataframe\">\n",
       "  <thead>\n",
       "    <tr style=\"text-align: right;\">\n",
       "      <th></th>\n",
       "      <th>item1</th>\n",
       "      <th>item2</th>\n",
       "      <th>AffinityScore</th>\n",
       "    </tr>\n",
       "  </thead>\n",
       "  <tbody>\n",
       "    <tr>\n",
       "      <th>0</th>\n",
       "      <td>5001.0</td>\n",
       "      <td>5002.0</td>\n",
       "      <td>0.4</td>\n",
       "    </tr>\n",
       "    <tr>\n",
       "      <th>1</th>\n",
       "      <td>5002.0</td>\n",
       "      <td>5001.0</td>\n",
       "      <td>0.4</td>\n",
       "    </tr>\n",
       "    <tr>\n",
       "      <th>2</th>\n",
       "      <td>5001.0</td>\n",
       "      <td>5005.0</td>\n",
       "      <td>0.4</td>\n",
       "    </tr>\n",
       "    <tr>\n",
       "      <th>3</th>\n",
       "      <td>5005.0</td>\n",
       "      <td>5001.0</td>\n",
       "      <td>0.4</td>\n",
       "    </tr>\n",
       "    <tr>\n",
       "      <th>4</th>\n",
       "      <td>5001.0</td>\n",
       "      <td>5003.0</td>\n",
       "      <td>0.0</td>\n",
       "    </tr>\n",
       "  </tbody>\n",
       "</table>\n",
       "</div>"
      ],
      "text/plain": [
       "    item1   item2  AffinityScore\n",
       "0  5001.0  5002.0            0.4\n",
       "1  5002.0  5001.0            0.4\n",
       "2  5001.0  5005.0            0.4\n",
       "3  5005.0  5001.0            0.4\n",
       "4  5001.0  5003.0            0.0"
      ]
     },
     "execution_count": 45,
     "metadata": {},
     "output_type": "execute_result"
    }
   ],
   "source": [
    "#Create an empty data frame to store item affinity scores for items.\n",
    "itemAffinity = pd.DataFrame(columns=['item1', 'item2', 'AffinityScore'])\n",
    "rowCount=0\n",
    "\n",
    "for idx1 in range(len(item_List)):\n",
    "    \n",
    "    #Get the list of users who got this item\n",
    "    item1Users = user_ItemData[user_ItemData.ItemId == item_List[idx1]]['userId'].tolist()\n",
    "    print 'item1', item1Users\n",
    "    \n",
    "    #Get item 2 - items that are not item 1 \n",
    "    for idx2 in range(idx1, len(item_List)):\n",
    "        \n",
    "        if ( idx1 == idx2):\n",
    "            continue\n",
    "        \n",
    "        item2Users = user_ItemData[user_ItemData.ItemId == item_List[idx2]]['userId'].tolist()\n",
    "        print 'item2', item2Users\n",
    "        \n",
    "        #Find score. Find the common list of users and divide it by the total users.\n",
    "        commonUsers = len(set(item1Users).intersection(set(item2Users)))\n",
    "        print 'Common Users are -->', commonUsers    \n",
    "        #Calculate the score\n",
    "        #print (commonUsers, 'common users and', userCount, 'User counts')\n",
    "        score = commonUsers/userCount\n",
    "        print 'Score is ', score\n",
    "        \n",
    "        #Add a score for item 1, item 2\n",
    "        itemAffinity.loc[rowCount] = [item_List[idx1],item_List[idx2],score]\n",
    "        rowCount +=1\n",
    "        #Add a score for item2, item 1. The same score would apply irrespective of the sequence.\n",
    "        itemAffinity.loc[rowCount] = [item_List[idx2],item_List[idx1],score]\n",
    "        rowCount +=1\n",
    "        \n",
    "#Check final result\n",
    "itemAffinity.head()\n",
    "        "
   ]
  },
  {
   "cell_type": "markdown",
   "metadata": {},
   "source": [
    "## Recommending Items\n",
    "Let us say that a customer bought an item 5001. We can query this data frame for item1-5001 and get items2 with score in desending order. This is the item list that you can recommend to the user in that order."
   ]
  },
  {
   "cell_type": "code",
   "execution_count": 54,
   "metadata": {
    "collapsed": false
   },
   "outputs": [
    {
     "name": "stdout",
     "output_type": "stream",
     "text": [
      "Recommedations for  5001 are [5002.0, 5005.0, 5004.0, 5003.0]\n"
     ]
    }
   ],
   "source": [
    "searchItem = 5001\n",
    "reco_list=itemAffinity[itemAffinity.item1 == searchItem][['item2', 'AffinityScore']]\\\n",
    ".sort_values('AffinityScore',ascending=False)\n",
    "\n",
    "print 'Recommedations for ', searchItem, 'are', list(reco_list.item2)\n"
   ]
  },
  {
   "cell_type": "code",
   "execution_count": null,
   "metadata": {
    "collapsed": true
   },
   "outputs": [],
   "source": [
    "\n"
   ]
  }
 ],
 "metadata": {
  "kernelspec": {
   "display_name": "Python [default]",
   "language": "python",
   "name": "python2"
  },
  "language_info": {
   "codemirror_mode": {
    "name": "ipython",
    "version": 2
   },
   "file_extension": ".py",
   "mimetype": "text/x-python",
   "name": "python",
   "nbconvert_exporter": "python",
   "pygments_lexer": "ipython2",
   "version": "2.7.12"
  }
 },
 "nbformat": 4,
 "nbformat_minor": 1
}
